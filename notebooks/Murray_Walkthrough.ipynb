{
  "nbformat": 4,
  "nbformat_minor": 0,
  "metadata": {
    "colab": {
      "provenance": []
    },
    "kernelspec": {
      "name": "python3",
      "display_name": "Python 3"
    },
    "language_info": {
      "name": "python"
    }
  },
  "cells": [
    {
      "cell_type": "markdown",
      "source": [
        "<table class=\"tfo-notebook-buttons\" align=\"left\">\n",
        "  <tr>\n",
        "    <td>\n",
        "      <a target=\"_blank\" href=\"https://colab.research.google.com/drive/1DkdJ1praQiKsd1YyrjdVbjZnJjvqfHO3#scrollTo=ibt3Smrv2WYV\">\n",
        "        <img src=\"https://www.tensorflow.org/images/colab_logo_32px.png\" alt=\"Colab Logo\" width=\"32\" height=\"32\" />\n",
        "        Run in Google Colab\n",
        "      </a>\n",
        "    </td>\n",
        "    <td>\n",
        "      <a target=\"_blank\" rel=\"noopener noreferrer\" href=\"https://streamlit.io/cloud\">\n",
        "        <img src=\"https://raw.githubusercontent.com/streamlit/streamlit/develop/frontend/app/src/assets/svg/logo.svg\" alt=\"Streamlit Logo\" width=\"32\" height=\"32\" />\n",
        "        Run in Streamlit App\n",
        "      </a>\n",
        "    </td>\n",
        "    <td>\n",
        "      <a target=\"_blank\" href=\"https://github.com/entropyx/murray\">\n",
        "        <img src=\"https://www.tensorflow.org/images/GitHub-Mark-32px.png\" alt=\"GitHub Logo\" width=\"32\" height=\"32\" />\n",
        "        View source on GitHub\n",
        "      </a>\n",
        "    </td>\n",
        "\n",
        "  </tr>\n",
        "</table>\n"
      ],
      "metadata": {
        "id": "ibt3Smrv2WYV"
      }
    },
    {
      "cell_type": "markdown",
      "source": [
        "# **Getting Started with Murray**"
      ],
      "metadata": {
        "id": "s-CtnCaKbeS1"
      }
    },
    {
      "cell_type": "markdown",
      "source": [
        "In this practical guide we will make use of the Murray library, from its installation to the final results. Examples will be included for a better understanding. The guide divide in three parts:\n",
        "\n",
        "- [Install](#scrollTo=B5BeW-dVfwPx)\n",
        "- [Experimental design](#scrollTo=NxW5RJPigX8h)\n",
        "- [Experimental evaluation](#scrollTo=MB_S7MqbsS_c)\n",
        "\n",
        "\n",
        "\n",
        "The experimental design have the following steps:\n",
        "\n",
        "\n",
        "1. [Upload data](#scrollTo=lWlkdVZ4kh7u)\n",
        "2. [Configure experimental design](#scrollTo=iCrLVPaAkoe0)\n",
        "3. [Results](#scrollTo=Nc9cuAZtoXDK)\n",
        "\n",
        "\n",
        "The experimental evaluation have the following steps:\n",
        "\n",
        "1.   [Upload data](#scrollTo=wq35fvBcw-O5)\n",
        "2.   [Configure and run experimental evaluation](#scrollTo=_DuQtzehxD_6)\n",
        "3.   [Results](#scrollTo=wNcc9IujyT5l)\n",
        "\n"
      ],
      "metadata": {
        "id": "4ivQY0cWcREZ"
      }
    },
    {
      "cell_type": "markdown",
      "source": [
        "## Step 0: Install"
      ],
      "metadata": {
        "id": "B5BeW-dVfwPx"
      }
    },
    {
      "cell_type": "markdown",
      "source": [
        "Before starting with the best part, you must first install the Murray package."
      ],
      "metadata": {
        "id": "Y-tFtfhof0KF"
      }
    },
    {
      "cell_type": "code",
      "source": [
        "!pip install murray"
      ],
      "metadata": {
        "id": "NHTp-Rr1gXYv"
      },
      "execution_count": null,
      "outputs": []
    },
    {
      "cell_type": "markdown",
      "source": [
        "Once you have verified that you have the package in your environment, proceed with the following step"
      ],
      "metadata": {
        "id": "qSQzn0d1gZA7"
      }
    },
    {
      "cell_type": "markdown",
      "source": [
        "## Step 1: Experimental desing"
      ],
      "metadata": {
        "id": "NxW5RJPigX8h"
      }
    },
    {
      "cell_type": "markdown",
      "source": [
        "### 1. Upload data"
      ],
      "metadata": {
        "id": "lWlkdVZ4kh7u"
      }
    },
    {
      "cell_type": "markdown",
      "source": [
        "Load your data in csv format"
      ],
      "metadata": {
        "id": "-FnAdhIGgwas"
      }
    },
    {
      "cell_type": "code",
      "source": [
        "data = pd.read_csv(\"data.csv\")"
      ],
      "metadata": {
        "id": "og3Ksjc5hOAN"
      },
      "execution_count": null,
      "outputs": []
    },
    {
      "cell_type": "markdown",
      "source": [
        "1\\. In order to continue it is necessary to have the data “cleaned”, that is to say, not to have irregular or missing values, for this you can choose to make sure that your loaded data has the requirements or you can use the function ```cleaned_data``` of Murray, which performs all this process, in this case the function will be used.\n",
        "\n"
      ],
      "metadata": {
        "id": "SlRW0VvZhPq7"
      }
    },
    {
      "cell_type": "markdown",
      "source": [
        "2\\. To use the function it is necessary to enter three parameters: the name of the target variable column, the name of the column where the locations are located and the name of the date column."
      ],
      "metadata": {
        "id": "r89tH165iTPj"
      }
    },
    {
      "cell_type": "code",
      "source": [
        "data = cleaned_data(data,col_target='Sessions',col_locations='Region',col_dates='Date')"
      ],
      "metadata": {
        "id": "YmTaqcM5hEPK"
      },
      "execution_count": null,
      "outputs": []
    },
    {
      "cell_type": "markdown",
      "source": [
        "The function will clean the data of irregularities. After, you can ue the ```plot_geodata``` function to see the data."
      ],
      "metadata": {
        "id": "p78k_kbtkKdm"
      }
    },
    {
      "cell_type": "code",
      "source": [
        "plot_geodata(data)"
      ],
      "metadata": {
        "id": "UJNlU_nrkfH4"
      },
      "execution_count": null,
      "outputs": []
    },
    {
      "cell_type": "markdown",
      "source": [
        "### 2. Configure experimental desing"
      ],
      "metadata": {
        "id": "iCrLVPaAkoe0"
      }
    },
    {
      "cell_type": "markdown",
      "source": [
        "Setting the configuration parameters is easy and you only need to log in:  ```data```, ```exclueded_data```, ```minimum_holdout_percentage```, ```significance_level```, ```deltas_range``` and ```periods_range```. These parameters are configured on a per-user basis. The parameters are few and very intuitive, this way the use of the package becomes fast, while Murray takes care of everything else.."
      ],
      "metadata": {
        "id": "nTYfhwvDk0B-"
      }
    },
    {
      "cell_type": "code",
      "source": [
        "geo_desing = run_geo_analysis(\n",
        "    data=data,\n",
        "    excluded_states=['mexico city', 'state of mexico'],\n",
        "    minimum_holdout_percentage=0.70,\n",
        "    significance_level=0.1,\n",
        "    deltas_range= (0.01, 0.25, 0.01),\n",
        "    periods_range=(5,30, 5)\n",
        ")"
      ],
      "metadata": {
        "id": "ykmon1XQmH2E"
      },
      "execution_count": null,
      "outputs": []
    },
    {
      "cell_type": "markdown",
      "source": [
        "The results of the test provide us a visualization about the sensitivity in all periods admitted and differents holdouts"
      ],
      "metadata": {
        "id": "8_x5uLI6oV9-"
      }
    },
    {
      "cell_type": "markdown",
      "source": [
        "### Results"
      ],
      "metadata": {
        "id": "Nc9cuAZtoXDK"
      }
    },
    {
      "cell_type": "markdown",
      "source": [
        "Once the heatmap is displayed you can choose the best configuration for you, after that you can use the following functions to display the experiment results, such as the treatment and control locations, as well as metrics like MAE (Mean Absolute Error) and MAPE (Mean Absolute Percentage Error)."
      ],
      "metadata": {
        "id": "S7SZ7xH9oaoT"
      }
    },
    {
      "cell_type": "markdown",
      "source": [
        "The first function is to obtain the states that make up the treatment and control groups. You can define a variable for the holdout or simply set the numerical value for the functions."
      ],
      "metadata": {
        "id": "PlyCu-qMo7Yd"
      }
    },
    {
      "cell_type": "code",
      "source": [
        "holdout = 80 #it's a example, you need change for your results"
      ],
      "metadata": {
        "id": "vO4S0huGo16D"
      },
      "execution_count": null,
      "outputs": []
    },
    {
      "cell_type": "markdown",
      "source": [
        "###### Treatment ando control groups"
      ],
      "metadata": {
        "id": "fpvsG0BaqCQe"
      }
    },
    {
      "cell_type": "code",
      "source": [
        "print_locations(geo_desing,holdout_percentage=holdout)"
      ],
      "metadata": {
        "id": "nmNg-MKUpHEj"
      },
      "execution_count": null,
      "outputs": []
    },
    {
      "cell_type": "markdown",
      "source": [
        "###### Weights"
      ],
      "metadata": {
        "id": "2jrDU0muqRmc"
      }
    },
    {
      "cell_type": "markdown",
      "source": [
        "To display a dataframe of how each control state influenced the construction of the actual constrafactual you can use the following function"
      ],
      "metadata": {
        "id": "2WbNP8_5pPLL"
      }
    },
    {
      "cell_type": "code",
      "source": [
        "print_weights(geo_desing,holdout_percentage=holdout)"
      ],
      "metadata": {
        "id": "mxQ_rcEhuj11"
      },
      "execution_count": null,
      "outputs": []
    },
    {
      "cell_type": "markdown",
      "source": [
        "NOTE: There are some negative values, however these states basically have a very small influence."
      ],
      "metadata": {
        "id": "kvdQxVbBpxGp"
      }
    },
    {
      "cell_type": "markdown",
      "source": [
        "###### Impact graphs"
      ],
      "metadata": {
        "id": "qVS-GHewqAfi"
      }
    },
    {
      "cell_type": "markdown",
      "source": [
        "Murray can show you a graph of the experiment, the chance effect and the cumulative effect so you can see graphically how it behaves. You need the followings parameters: ```geodata```, ```period``` and ```holdout_percentage```."
      ],
      "metadata": {
        "id": "4_XrY79JqXiB"
      }
    },
    {
      "cell_type": "code",
      "source": [
        "plot_impact_graphs(geo_desing,20,holdout)"
      ],
      "metadata": {
        "id": "aLY8m2zkq1SZ"
      },
      "execution_count": null,
      "outputs": []
    },
    {
      "cell_type": "markdown",
      "source": [
        "###### Incremental results"
      ],
      "metadata": {
        "id": "uaK-B9Biq1C9"
      }
    },
    {
      "cell_type": "markdown",
      "source": [
        "Metrics such as ATT and total count can also be printed according to the selected configuration. The parameters required to use the function are the same as the previous one ( ```geodata```, ```period``` and ```holdout_percentage```)."
      ],
      "metadata": {
        "id": "QkLqhg6XrJsN"
      }
    },
    {
      "cell_type": "code",
      "source": [
        "print_incremental_results(geo_desing,20,holdout)"
      ],
      "metadata": {
        "id": "Fm0ie-XTsKzq"
      },
      "execution_count": null,
      "outputs": []
    },
    {
      "cell_type": "markdown",
      "source": [
        "###### Metrics (MAPE and MAE)"
      ],
      "metadata": {
        "id": "yuP-b0YZrm5t"
      }
    },
    {
      "cell_type": "markdown",
      "source": [
        "The choice of the best configuration should also take into account having a group of locations that best represent the treatment group, with the following function you can obtain graphs of the MAE and MAPE metrics of the different groups that were chosen. You only need to enter one parameter."
      ],
      "metadata": {
        "id": "Rci9Y2kIrq1g"
      }
    },
    {
      "cell_type": "code",
      "source": [
        "plot_metrics(geo_desing)"
      ],
      "metadata": {
        "id": "M7DllPOpsSjF"
      },
      "execution_count": null,
      "outputs": []
    },
    {
      "cell_type": "markdown",
      "source": [
        "## Step 3: Experimental evaluation"
      ],
      "metadata": {
        "id": "MB_S7MqbsS_c"
      }
    },
    {
      "cell_type": "markdown",
      "source": [
        "In this section Murray will be used to analyze data where a treatment has already been applied. As in the design, the first thing to do is to load and read the data."
      ],
      "metadata": {
        "id": "mzpmek9VwbHd"
      }
    },
    {
      "cell_type": "markdown",
      "source": [
        "### Upload data"
      ],
      "metadata": {
        "id": "wq35fvBcw-O5"
      }
    },
    {
      "cell_type": "code",
      "source": [
        "data = pd.read_csv(\"data_marketing_campaign.csv\")"
      ],
      "metadata": {
        "id": "H2qrws4iucmp"
      },
      "execution_count": null,
      "outputs": []
    },
    {
      "cell_type": "markdown",
      "source": [
        "Then, as explained above, if necessary, you can use the ```cleaned_data``` function to have the proper structure."
      ],
      "metadata": {
        "id": "K2rW3Rs9w6b8"
      }
    },
    {
      "cell_type": "code",
      "source": [
        "data = cleaned_data(data,col_target='Sessions',col_locations='Region',col_dates='Date')"
      ],
      "metadata": {
        "id": "xvQOkci9cOsl"
      },
      "execution_count": null,
      "outputs": []
    },
    {
      "cell_type": "markdown",
      "source": [
        "Now, you can visualize the data if required."
      ],
      "metadata": {
        "id": "T4TyNEJcxsJw"
      }
    },
    {
      "cell_type": "code",
      "source": [
        "plot_geodata(data)"
      ],
      "metadata": {
        "id": "-wPiNESdxwUA"
      },
      "execution_count": null,
      "outputs": []
    },
    {
      "cell_type": "markdown",
      "source": [
        "### Configure experimental evaluation"
      ],
      "metadata": {
        "id": "_DuQtzehxD_6"
      }
    },
    {
      "cell_type": "markdown",
      "source": [
        "In order to run the function that performs the evaluation, you only need to enter the following parameters: ```data```,```start_treatment```,```end_treatment``` and ```treatment_group```."
      ],
      "metadata": {
        "id": "mooqBevjyBpL"
      }
    },
    {
      "cell_type": "code",
      "source": [
        "treatment_group = ['baja california', 'chiapas', 'chihuahua', 'colima', 'guerrero', 'hidalgo', 'michoacan', 'oaxaca', 'san luis potosi', 'tamaulipas', 'texas']"
      ],
      "metadata": {
        "id": "eGwbP8ziK6NV"
      },
      "execution_count": null,
      "outputs": []
    },
    {
      "cell_type": "code",
      "source": [
        "results_evaluation = post_analysis(data=data,start_treatment=345,end_treatment=365,treatment_group=treatment_group)"
      ],
      "metadata": {
        "id": "9gl2Hghf6BeY"
      },
      "execution_count": null,
      "outputs": []
    },
    {
      "cell_type": "markdown",
      "source": [
        "### Results"
      ],
      "metadata": {
        "id": "wNcc9IujyT5l"
      }
    },
    {
      "cell_type": "markdown",
      "source": [
        "Once the evaluation function is executed, you can display different results with the following functions."
      ],
      "metadata": {
        "id": "9Fa-eEt_ygmw"
      }
    },
    {
      "cell_type": "markdown",
      "source": [
        "###### Impact graphs"
      ],
      "metadata": {
        "id": "PUMe9bt0yw1a"
      }
    },
    {
      "cell_type": "markdown",
      "source": [
        "To obtain the impact graphs you only need to enter the ```results_evaluation``` parameter to the following function."
      ],
      "metadata": {
        "id": "jWq8UYyIzA0h"
      }
    },
    {
      "cell_type": "code",
      "source": [
        "plot_impact_graphs_evaluation(results_evaluation=results_evaluation)"
      ],
      "metadata": {
        "id": "Crsh8KGuzIkf"
      },
      "execution_count": null,
      "outputs": []
    },
    {
      "cell_type": "markdown",
      "source": [
        "##### Incremental results"
      ],
      "metadata": {
        "id": "7gRJYL83zJZC"
      }
    },
    {
      "cell_type": "markdown",
      "source": [
        "To print the ATT value and the total increment you need the same parameter of the previous function and enter it in the following function."
      ],
      "metadata": {
        "id": "zMsPCT1IzORG"
      }
    },
    {
      "cell_type": "code",
      "source": [
        "print_incremental_results_evaluation(results_evaluation)"
      ],
      "metadata": {
        "id": "EKzLW3uYzfSX"
      },
      "execution_count": null,
      "outputs": []
    },
    {
      "cell_type": "markdown",
      "source": [
        "###### Permutation test"
      ],
      "metadata": {
        "id": "2YnnA8A4zf4A"
      }
    },
    {
      "cell_type": "markdown",
      "source": [
        "Finally, to observe in a graph the hypothesis test that was performed you should use the following function."
      ],
      "metadata": {
        "id": "eVXKqChqzwEA"
      }
    },
    {
      "cell_type": "code",
      "source": [
        "plot_permutation_test(results_evaluation)plot_permutation_test(results_evaluation)"
      ],
      "metadata": {
        "id": "fvKXHACizyWs"
      },
      "execution_count": null,
      "outputs": []
    }
  ]
}