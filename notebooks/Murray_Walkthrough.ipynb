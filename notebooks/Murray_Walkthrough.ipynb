{
  "cells": [
    {
      "cell_type": "markdown",
      "metadata": {
        "id": "ibt3Smrv2WYV"
      },
      "source": [
        "<table class=\"tfo-notebook-buttons\" align=\"left\">\n",
        "    <tr>\n",
        "        <td>\n",
        "            <a target=\"_blank\" href=\"https://github.com/entropyx/murray\">\n",
        "                <img src=\"https://www.tensorflow.org/images/GitHub-Mark-32px.png\" alt=\"GitHub Logo\" width=\"32\" height=\"32\" />\n",
        "                View source on GitHub\n",
        "            </a>\n",
        "        </td>\n",
        "        <td>\n",
        "            <a target=\"_blank\" href=\"https://colab.research.google.com/github/entropyx/murray/blob/folder-structure/notebooks/Murray_Walkthrough.ipynb\">\n",
        "                <img src=\"https://colab.research.google.com/assets/colab-badge.svg\" alt=\"Abrir en Colab\" />\n",
        "            </a>\n",
        "        </td>\n",
        "    </tr>\n",
        "</table>\n"
      ]
    },
    {
      "cell_type": "markdown",
      "metadata": {
        "id": "s-CtnCaKbeS1"
      },
      "source": [
        "# **Getting Started with Murray**"
      ]
    },
    {
      "cell_type": "markdown",
      "metadata": {
        "id": "4ivQY0cWcREZ"
      },
      "source": [
        "In this practical guide we will make use of the Murray library, from its installation to the final results. Examples will be included for a better understanding. The guide divide in three parts:\n",
        "\n",
        "- Install\n",
        "- Experimental design\n",
        "- Experimental evaluation\n",
        "\n",
        "\n",
        "\n",
        "The experimental design have the following steps:\n",
        "\n",
        "\n",
        "\n",
        "1. Upload data\n",
        "2. Configure experimental design\n",
        "3. Results\n",
        "\n",
        "\n",
        "The experimental evaluation have the following steps:\n",
        "\n",
        "1.   Upload data\n",
        "2.   Configure and run experimental evaluation\n",
        "3.   Results\n",
        "\n"
      ]
    },
    {
      "cell_type": "markdown",
      "metadata": {
        "id": "B5BeW-dVfwPx"
      },
      "source": [
        "## Step 0: Install"
      ]
    },
    {
      "cell_type": "markdown",
      "metadata": {
        "id": "Y-tFtfhof0KF"
      },
      "source": [
        "Before starting with the best part, you must first install the Murray package."
      ]
    },
    {
      "cell_type": "code",
      "execution_count": null,
      "metadata": {
        "id": "NHTp-Rr1gXYv"
      },
      "outputs": [],
      "source": [
        "!pip install git+https://github.com/entropyx/murray.git"
      ]
    },
    {
      "cell_type": "markdown",
      "metadata": {
        "id": "qSQzn0d1gZA7"
      },
      "source": [
        "Once the package is installed in your environment, you should import the package along with its functions. A simple way to do this is as follows:"
      ]
    },
    {
      "cell_type": "code",
      "execution_count": null,
      "metadata": {},
      "outputs": [],
      "source": [
        "import pandas as pd\n",
        "from Murray import cleaned_data\n",
        "from Murray import plot_geodata,plot_impact_graphs,plot_impact_graphs_evaluation,plot_metrics,plot_permutation_test\n",
        "from Murray import print_locations,print_weights,print_incremental_results,print_incremental_results_evaluation\n",
        "from Murray import run_geo_analysis,run_geo_evaluation"
      ]
    },
    {
      "cell_type": "markdown",
      "metadata": {
        "id": "NxW5RJPigX8h"
      },
      "source": [
        "## Step 1: Experimental desing"
      ]
    },
    {
      "cell_type": "markdown",
      "metadata": {
        "id": "lWlkdVZ4kh7u"
      },
      "source": [
        "### Upload data"
      ]
    },
    {
      "cell_type": "markdown",
      "metadata": {
        "id": "-FnAdhIGgwas"
      },
      "source": [
        "Load your data in csv format"
      ]
    },
    {
      "cell_type": "code",
      "execution_count": null,
      "metadata": {
        "id": "og3Ksjc5hOAN"
      },
      "outputs": [],
      "source": [
        "data = pd.read_csv(\"data.csv\")"
      ]
    },
    {
      "cell_type": "markdown",
      "metadata": {
        "id": "SlRW0VvZhPq7"
      },
      "source": [
        "1\\. In order to continue it is necessary to have the data “cleaned”, that is to say, not to have irregular or missing values, for this you can choose to make sure that your loaded data has the requirements or you can use the function ```cleaned_data``` of Murray, which performs all this process, in this case the function will be used.\n",
        "\n"
      ]
    },
    {
      "cell_type": "markdown",
      "metadata": {
        "id": "r89tH165iTPj"
      },
      "source": [
        "2\\. To use the function it is necessary to enter three parameters: the name of the target variable column, the name of the column where the locations are located and the name of the date column."
      ]
    },
    {
      "cell_type": "code",
      "execution_count": null,
      "metadata": {
        "id": "YmTaqcM5hEPK"
      },
      "outputs": [],
      "source": [
        "data = cleaned_data(data,col_target='Sessions',col_locations='Region',col_dates='Date')"
      ]
    },
    {
      "cell_type": "markdown",
      "metadata": {
        "id": "p78k_kbtkKdm"
      },
      "source": [
        "The function will clean the data of irregularities. After, you can ue the ```plot_geodata``` function to see the data."
      ]
    },
    {
      "cell_type": "code",
      "execution_count": null,
      "metadata": {
        "id": "UJNlU_nrkfH4"
      },
      "outputs": [],
      "source": [
        "plot_geodata(data)"
      ]
    },
    {
      "cell_type": "markdown",
      "metadata": {
        "id": "iCrLVPaAkoe0"
      },
      "source": [
        "### Configure experimental desing"
      ]
    },
    {
      "cell_type": "markdown",
      "metadata": {
        "id": "nTYfhwvDk0B-"
      },
      "source": [
        "Setting the configuration parameters is easy and you only need to log in:  ```data```, ```exclueded_data```, ```minimum_holdout_percentage```, ```significance_level```, ```deltas_range``` and ```periods_range```. These parameters are configured on a per-user basis. The parameters are few and very intuitive, this way the use of the package becomes fast, while Murray takes care of everything else.."
      ]
    },
    {
      "cell_type": "code",
      "execution_count": null,
      "metadata": {
        "id": "ykmon1XQmH2E"
      },
      "outputs": [],
      "source": [
        "geo_desing = run_geo_analysis(\n",
        "    data=data,\n",
        "    excluded_locations=['mexico city', 'state of mexico'],\n",
        "    maximum_treatment_percentage=0.30,\n",
        "    significance_level=0.10,\n",
        "    deltas_range= (0.01, 0.25, 0.01),\n",
        "    periods_range=(5,30, 5)\n",
        ")"
      ]
    },
    {
      "cell_type": "markdown",
      "metadata": {
        "id": "8_x5uLI6oV9-"
      },
      "source": [
        "The results of the test provide us a visualization about the sensitivity in all periods admitted and differents holdouts"
      ]
    },
    {
      "cell_type": "markdown",
      "metadata": {
        "id": "Nc9cuAZtoXDK"
      },
      "source": [
        "### Results"
      ]
    },
    {
      "cell_type": "markdown",
      "metadata": {
        "id": "S7SZ7xH9oaoT"
      },
      "source": [
        "Once the heatmap is displayed you can choose the best configuration for you, after that you can use the following functions to display the experiment results, such as the treatment and control locations, as well as metrics like MAE (Mean Absolute Error) and MAPE (Mean Absolute Percentage Error)."
      ]
    },
    {
      "cell_type": "markdown",
      "metadata": {
        "id": "PlyCu-qMo7Yd"
      },
      "source": [
        "The first function is to obtain the states that make up the treatment and control groups. You can define a variable for the holdout or simply set the numerical value for the functions."
      ]
    },
    {
      "cell_type": "code",
      "execution_count": null,
      "metadata": {
        "id": "vO4S0huGo16D"
      },
      "outputs": [],
      "source": [
        "holdout = 80 #it's a example, you need change for your results"
      ]
    },
    {
      "cell_type": "markdown",
      "metadata": {
        "id": "fpvsG0BaqCQe"
      },
      "source": [
        "###### Treatment ando control groups"
      ]
    },
    {
      "cell_type": "code",
      "execution_count": null,
      "metadata": {
        "id": "nmNg-MKUpHEj"
      },
      "outputs": [],
      "source": [
        "print_locations(geo_desing,holdout_percentage=holdout)"
      ]
    },
    {
      "cell_type": "markdown",
      "metadata": {
        "id": "2jrDU0muqRmc"
      },
      "source": [
        "###### Weights"
      ]
    },
    {
      "cell_type": "markdown",
      "metadata": {
        "id": "2WbNP8_5pPLL"
      },
      "source": [
        "To display a dataframe of how each control state influenced the construction of the actual constrafactual you can use the following function"
      ]
    },
    {
      "cell_type": "code",
      "execution_count": null,
      "metadata": {
        "id": "mxQ_rcEhuj11"
      },
      "outputs": [],
      "source": [
        "print_weights(geo_desing,holdout_percentage=holdout)"
      ]
    },
    {
      "cell_type": "markdown",
      "metadata": {
        "id": "kvdQxVbBpxGp"
      },
      "source": [
        "NOTE: There are some negative values, however these states basically have a very small influence."
      ]
    },
    {
      "cell_type": "markdown",
      "metadata": {
        "id": "qVS-GHewqAfi"
      },
      "source": [
        "###### Impact graphs"
      ]
    },
    {
      "cell_type": "markdown",
      "metadata": {
        "id": "4_XrY79JqXiB"
      },
      "source": [
        "Murray can show you a graph of the experiment, the chance effect and the cumulative effect so you can see graphically how it behaves. You need the followings parameters: ```geodata```, ```period``` and ```holdout_percentage```."
      ]
    },
    {
      "cell_type": "code",
      "execution_count": null,
      "metadata": {
        "id": "aLY8m2zkq1SZ"
      },
      "outputs": [],
      "source": [
        "plot_impact_graphs(geo_desing,period=20,holdout_percentage=holdout)"
      ]
    },
    {
      "cell_type": "markdown",
      "metadata": {
        "id": "uaK-B9Biq1C9"
      },
      "source": [
        "###### Incremental results"
      ]
    },
    {
      "cell_type": "markdown",
      "metadata": {
        "id": "QkLqhg6XrJsN"
      },
      "source": [
        "Metrics such as ATT and total count can also be printed according to the selected configuration. The parameters required to use the function are the same as the previous one ( ```geodata```, ```period``` and ```holdout_percentage```)."
      ]
    },
    {
      "cell_type": "code",
      "execution_count": null,
      "metadata": {
        "id": "Fm0ie-XTsKzq"
      },
      "outputs": [],
      "source": [
        "print_incremental_results(geo_desing,period=20,holdout_percentage=holdout)"
      ]
    },
    {
      "cell_type": "markdown",
      "metadata": {
        "id": "yuP-b0YZrm5t"
      },
      "source": [
        "###### Metrics (MAPE and MAE)"
      ]
    },
    {
      "cell_type": "markdown",
      "metadata": {
        "id": "Rci9Y2kIrq1g"
      },
      "source": [
        "The choice of the best configuration should also take into account having a group of locations that best represent the treatment group, with the following function you can obtain graphs of the MAE and MAPE metrics of the different groups that were chosen. You only need to enter one parameter."
      ]
    },
    {
      "cell_type": "code",
      "execution_count": null,
      "metadata": {
        "id": "M7DllPOpsSjF"
      },
      "outputs": [],
      "source": [
        "plot_metrics(geo_desing)"
      ]
    },
    {
      "cell_type": "markdown",
      "metadata": {
        "id": "MB_S7MqbsS_c"
      },
      "source": [
        "## Step 3: Experimental evaluation"
      ]
    },
    {
      "cell_type": "markdown",
      "metadata": {
        "id": "mzpmek9VwbHd"
      },
      "source": [
        "In this section Murray will be used to analyze data where a treatment has already been applied. As in the design, the first thing to do is to load and read the data."
      ]
    },
    {
      "cell_type": "markdown",
      "metadata": {
        "id": "wq35fvBcw-O5"
      },
      "source": [
        "### Upload data"
      ]
    },
    {
      "cell_type": "code",
      "execution_count": null,
      "metadata": {
        "id": "H2qrws4iucmp"
      },
      "outputs": [],
      "source": [
        "data = pd.read_csv(\"data_marketing_campaign.csv\")"
      ]
    },
    {
      "cell_type": "markdown",
      "metadata": {
        "id": "K2rW3Rs9w6b8"
      },
      "source": [
        "Then, as explained above, if necessary, you can use the ```cleaned_data``` function to have the proper structure."
      ]
    },
    {
      "cell_type": "code",
      "execution_count": null,
      "metadata": {
        "id": "xvQOkci9cOsl"
      },
      "outputs": [],
      "source": [
        "data = cleaned_data(data,col_target='Sessions',col_locations='Region',col_dates='Date')"
      ]
    },
    {
      "cell_type": "markdown",
      "metadata": {
        "id": "T4TyNEJcxsJw"
      },
      "source": [
        "Now, you can visualize the data if required."
      ]
    },
    {
      "cell_type": "code",
      "execution_count": null,
      "metadata": {
        "id": "-wPiNESdxwUA"
      },
      "outputs": [],
      "source": [
        "plot_geodata(data)"
      ]
    },
    {
      "cell_type": "markdown",
      "metadata": {
        "id": "_DuQtzehxD_6"
      },
      "source": [
        "### Configure experimental evaluation"
      ]
    },
    {
      "cell_type": "markdown",
      "metadata": {
        "id": "mooqBevjyBpL"
      },
      "source": [
        "In order to run the function that performs the evaluation, you only need to enter the following parameters: ```data```,```start_treatment```,```end_treatment```, ```treatment_group``` and ```spend```. "
      ]
    },
    {
      "cell_type": "markdown",
      "metadata": {},
      "source": [
        "Note: We must ensure that the dates are written in the DD/MM/YYYY format"
      ]
    },
    {
      "cell_type": "code",
      "execution_count": null,
      "metadata": {
        "id": "eGwbP8ziK6NV"
      },
      "outputs": [],
      "source": [
        "treatment_group = ['baja california', 'chiapas', 'chihuahua', 'colima', 'guerrero', 'hidalgo', 'michoacan', 'oaxaca', 'san luis potosi', 'tamaulipas', 'texas']"
      ]
    },
    {
      "cell_type": "code",
      "execution_count": null,
      "metadata": {
        "id": "9gl2Hghf6BeY"
      },
      "outputs": [],
      "source": [
        "results_evaluation = run_geo_evaluation(data=data,start_treatment='01-12-2024',end_treatment='31-12-2024',treatment_group=treatment_group,spend=25000)"
      ]
    },
    {
      "cell_type": "markdown",
      "metadata": {
        "id": "wNcc9IujyT5l"
      },
      "source": [
        "### Results"
      ]
    },
    {
      "cell_type": "markdown",
      "metadata": {
        "id": "9Fa-eEt_ygmw"
      },
      "source": [
        "Once the evaluation function is executed, you can display different results with the following functions."
      ]
    },
    {
      "cell_type": "markdown",
      "metadata": {
        "id": "PUMe9bt0yw1a"
      },
      "source": [
        "###### Impact graphs"
      ]
    },
    {
      "cell_type": "markdown",
      "metadata": {
        "id": "jWq8UYyIzA0h"
      },
      "source": [
        "To obtain the impact graphs you only need to enter the ```results_evaluation``` parameter to the following function."
      ]
    },
    {
      "cell_type": "code",
      "execution_count": null,
      "metadata": {
        "id": "Crsh8KGuzIkf"
      },
      "outputs": [],
      "source": [
        "plot_impact_graphs_evaluation(results_evaluation=results_evaluation)"
      ]
    },
    {
      "cell_type": "markdown",
      "metadata": {
        "id": "7gRJYL83zJZC"
      },
      "source": [
        "##### Incremental results"
      ]
    },
    {
      "cell_type": "markdown",
      "metadata": {
        "id": "zMsPCT1IzORG"
      },
      "source": [
        "To print the ATT value, the total increment, and either iROAS or iCPA, you need the same parameter from the previous function, but this time also entering the value you want to calculate, either iROAS or iCPA."
      ]
    },
    {
      "cell_type": "code",
      "execution_count": null,
      "metadata": {
        "id": "EKzLW3uYzfSX"
      },
      "outputs": [],
      "source": [
        "print_incremental_results_evaluation(results_evaluation,'iCPA')"
      ]
    },
    {
      "cell_type": "markdown",
      "metadata": {
        "id": "2YnnA8A4zf4A"
      },
      "source": [
        "###### Permutation test"
      ]
    },
    {
      "cell_type": "markdown",
      "metadata": {
        "id": "eVXKqChqzwEA"
      },
      "source": [
        "Finally, to observe in a graph the hypothesis test that was performed you should use the following function."
      ]
    },
    {
      "cell_type": "code",
      "execution_count": null,
      "metadata": {
        "id": "fvKXHACizyWs"
      },
      "outputs": [],
      "source": [
        "plot_permutation_test(results_evaluation)"
      ]
    }
  ],
  "metadata": {
    "colab": {
      "provenance": []
    },
    "kernelspec": {
      "display_name": "Python 3",
      "name": "python3"
    },
    "language_info": {
      "name": "python"
    }
  },
  "nbformat": 4,
  "nbformat_minor": 0
}
